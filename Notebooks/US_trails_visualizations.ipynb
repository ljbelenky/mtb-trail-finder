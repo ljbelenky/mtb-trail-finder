{
 "cells": [
  {
   "cell_type": "code",
   "execution_count": null,
   "metadata": {
    "collapsed": true
   },
   "outputs": [],
   "source": [
    "import numpy as np\n",
    "import pandas as pd\n",
    "import matplotlib.pyplot as plt\n",
    "import matplotlib.patches\n",
    "import seaborn as sns\n",
    "%matplotlib inline"
   ]
  },
  {
   "cell_type": "markdown",
   "metadata": {},
   "source": [
    "NEED TO MAKE:\n",
    "\n",
    "Violin for Stars based on Difficulty:CHECK\n",
    "\n",
    "Countplot for Trails based on Type: CHECK\n",
    "\n",
    "Countplot for difficulty: CHECK\n",
    "\n",
    "#SHOULD I CHANGE THE COLORS? Hash the double black.  I like how they match the difficulty color rating, but is it bad to have two blacks?\n",
    "\n",
    "Histogram for Length_range: CHECK\n",
    "\n",
    "#THIS GOES TO SHOW THAT YOU MIGHT WANT TO REMOVE ALL TRAILS LESS THAN 1 MILE, THIS WOULD TAKE THE 0-5 DOWN BY 10,000\n",
    "\n",
    "#OR CONSIDER REMOVING ALL CONNECTORS\n",
    "\n",
    "Histogram for distance depending on difficulty(violin plot and box plot): CHECK\n",
    "\n",
    "#SHOULD I GET RID OF THE OUTLIERS OR NORMALIZE/SCALE THE Lengths so that these graphs don't look craycray?\n",
    "\n",
    "#MAYBE THINK ABOUT MAKING THIS HORIZONTAL\n",
    "\n",
    "Make distplot for ascent depending on length_range/difficulty: CHECK\n",
    "\n",
    "Make distplot for descent depending on length_range/difficulty: CHECK\n",
    "\n",
    "#IS THERE SOME WAY I COULD ATTACH THIS TO THE ASCENT GRAPH SO IT HAS A POSITIVE AND NEGATIVE Y AXIS\n"
   ]
  },
  {
   "cell_type": "code",
   "execution_count": null,
   "metadata": {
    "collapsed": true
   },
   "outputs": [],
   "source": [
    "US_trails = pd.read_csv('../data/US_trails_engineered.csv')"
   ]
  },
  {
   "cell_type": "code",
   "execution_count": null,
   "metadata": {},
   "outputs": [],
   "source": [
    "US_trails.shape"
   ]
  },
  {
   "cell_type": "code",
   "execution_count": null,
   "metadata": {},
   "outputs": [],
   "source": [
    "US_trails.head()"
   ]
  },
  {
   "cell_type": "code",
   "execution_count": null,
   "metadata": {},
   "outputs": [],
   "source": [
    "US_trails.columns"
   ]
  },
  {
   "cell_type": "code",
   "execution_count": null,
   "metadata": {},
   "outputs": [],
   "source": [
    "US_trails['category'].value_counts()"
   ]
  },
  {
   "cell_type": "code",
   "execution_count": null,
   "metadata": {},
   "outputs": [],
   "source": [
    "fig, ax = plt.subplots(figsize = (15, 10))\n",
    "sns.countplot(x=\"category\", data=US_trails, order=['Trail', 'Featured Ride']).set_title('Number of MTB Trails by Type')\n",
    "sns.set_style(\"darkgrid\")\n",
    "sns.set(font_scale = 2)\n",
    "ax.set_ylabel('')    \n",
    "ax.set_xlabel('')\n",
    "plt.savefig('../images/MTB_trails_by_type.png', bbox_inches='tight')\n",
    "plt.show()"
   ]
  },
  {
   "cell_type": "code",
   "execution_count": null,
   "metadata": {},
   "outputs": [],
   "source": [
    "#SHOULD I CHANGE THE COLORS? I like how they match the difficulty color rating, but is it bad to have two blacks?\n",
    "#colors = ['green', 'blue green', 'blue', 'dark blue', 'almost black', 'black']\n",
    "colors = ['green', 'blue green', 'blue', 'dark blue', 'dark grey', 'black']\n",
    "fig, ax = plt.subplots(figsize = (10, 10))\n",
    "sns.set_style(\"darkgrid\")\n",
    "sns.set(font_scale = 2)\n",
    "sns.countplot(x=\"difficulty\", data=US_trails, order=['Green','Green/Blue','Blue','Blue/Black','Black','Double Black'], \n",
    "    palette=sns.xkcd_palette(colors)).set_title('Number of MTB Trails by Difficulty Rating')\n",
    "ax.set_ylabel('')    \n",
    "ax.set_xlabel('')\n",
    "#plt.rcParams['hatch.color'] = '#aa007d'\n",
    "#ax.patches[5].set_hatch('x')\n",
    "plt.savefig('../images/Number_trails_by_difficulty.png', bbox_inches='tight')\n",
    "plt.show()\n"
   ]
  },
  {
   "cell_type": "code",
   "execution_count": null,
   "metadata": {},
   "outputs": [],
   "source": [
    "US_trails['stars'].min()"
   ]
  },
  {
   "cell_type": "code",
   "execution_count": null,
   "metadata": {},
   "outputs": [],
   "source": [
    "colors = ['green', 'blue green', 'blue', 'dark blue', 'almost black', 'black']\n",
    "fig, ax = plt.subplots(figsize = (10, 10))\n",
    "sns.distplot(US_trails[\"stars\"], rug = True).set_title('Distribution of Ratings')\n",
    "sns.set_style(\"darkgrid\")\n",
    "sns.set(font_scale = 2)\n",
    "ax.set_ylabel('')    \n",
    "ax.set_xlabel('')"
   ]
  },
  {
   "cell_type": "code",
   "execution_count": null,
   "metadata": {},
   "outputs": [],
   "source": [
    "#This shows that the trails that have been rated the least are Green trails, and the trails that have been rated the\n",
    "#highest are blue/Black trails\n",
    "colors = ['green', 'blue green', 'blue', 'dark blue', 'dark grey', 'black']\n",
    "fig, ax = plt.subplots(figsize = (10, 10))\n",
    "sns.violinplot(x=\"difficulty\", y=\"stars\", data=US_trails, order=['Green','Green/Blue','Blue','Blue/Black','Black','Double Black'], \n",
    "    palette=sns.xkcd_palette(colors),inner=None).set_title('User Rating of MTB Trails by Difficulty')\n",
    "sns.set_style(\"darkgrid\")\n",
    "sns.set(font_scale = 2)\n",
    "#plt.rcParams['hatch.color'] = '#aa007d'\n",
    "#ax.patches[1].set_hatch('x')\n",
    "ax.set_ylabel('')    \n",
    "ax.set_xlabel('')\n",
    "plt.savefig('../images/User_rating_by_difficulty.png', bbox_inches='tight')\n",
    "plt.show()"
   ]
  },
  {
   "cell_type": "code",
   "execution_count": null,
   "metadata": {},
   "outputs": [],
   "source": [
    "US_trails['length_range'].unique().tolist()"
   ]
  },
  {
   "cell_type": "code",
   "execution_count": null,
   "metadata": {},
   "outputs": [],
   "source": [
    "#THIS GOES TO SHOW THAT YOU MIGHT WANT TO REMOVE ALL TRAILS LESS THAN 1 MILE, THIS WOULD TAKE THE 0-5 DOWN BY 10,000\n",
    "#OR CONSIDER REMOVING ALL CONNECTORS\n",
    "fig, ax = plt.subplots(figsize = (15, 10))\n",
    "sns.countplot(x=\"length_range\", data=US_trails, order = ['0-5','5-10','10-15','15-20','20-25','25-30','30+']\n",
    "             ).set_title('Number of MTB Trails by Length')\n",
    "sns.set_style(\"darkgrid\")\n",
    "sns.set(font_scale = 3)\n",
    "#plt.rcParams['hatch.color'] = '#aa007d'\n",
    "#ax.patches[5].set_hatch('x')\n",
    "ax.set_ylabel('')    \n",
    "ax.set_xlabel('Length in Miles')\n",
    "plt.savefig('../images/Number_trails_by_length.png', bbox_inches='tight')\n",
    "plt.show()\n"
   ]
  },
  {
   "cell_type": "code",
   "execution_count": null,
   "metadata": {},
   "outputs": [],
   "source": [
    "#SHOULD I GET RID OF THE OUTLIERS OR NORMALIZE/SCALE THE Lengths so that these graphs don't look craycray?\n",
    "#MAYBE THINK ABOUT MAKING THIS HORIZONTAL\n",
    "#colors = ['green', 'blue green', 'blue', 'dark blue', 'almost black', 'black']\n",
    "colors = ['green', 'blue green', 'blue', 'dark blue', 'dark grey', 'black']\n",
    "fig, ax = plt.subplots(figsize = (15, 10))\n",
    "sns.violinplot(x=\"difficulty\", y=\"length\", data=US_trails, order=['Green','Green/Blue','Blue','Blue/Black','Black','Double Black'], \n",
    "    palette=sns.xkcd_palette(colors),inner=None).set_title('Lengths of MTB Trails by Difficulty')\n",
    "sns.set_style(\"darkgrid\")\n",
    "sns.set(font_scale = 2)\n",
    "#plt.rcParams['hatch.color'] = '#aa007d'\n",
    "#ax.patches.set_hatch('x')\n",
    "ax.set_ylabel('')    \n",
    "ax.set_xlabel('')\n"
   ]
  },
  {
   "cell_type": "code",
   "execution_count": null,
   "metadata": {},
   "outputs": [],
   "source": [
    "#I LIKE THAT THIS ACTUALLY SHOWS THE OUTLIERS BUT STILL, THEY ARE A LITTLE OVERWHELMING\n",
    "colors = ['green', 'blue green', 'blue', 'dark blue', 'dark grey', 'black']\n",
    "#colors = ['green', 'blue green', 'blue', 'dark blue', 'almost black', 'black']\n",
    "fig, ax = plt.subplots(figsize = (10, 10))\n",
    "sns.boxplot(x=\"difficulty\", y=\"length\", data=US_trails, order=['Green','Green/Blue','Blue','Blue/Black','Black','Double Black'], \n",
    "    palette=sns.xkcd_palette(colors)).set_title('Lengths of MTB Trails by Difficulty')\n",
    "sns.set_style(\"darkgrid\")\n",
    "sns.set(font_scale = 2)\n",
    "plt.rcParams['hatch.color'] = '#aa007d'\n",
    "ax.patches[5].set_hatch('x')\n",
    "ax.set_ylabel('')    \n",
    "ax.set_xlabel('')"
   ]
  },
  {
   "cell_type": "code",
   "execution_count": null,
   "metadata": {},
   "outputs": [],
   "source": [
    "#SHOULD I GET RID OF THE OUTLIERS OR NORMALIZE/SCALE THE Lengths so that these graphs don't look craycray?\n",
    "#MAYBE THINK ABOUT MAKING THIS HORIZONTAL\n",
    "#colors = ['green', 'blue green', 'blue', 'dark blue', 'almost black', 'black']\n",
    "colors = ['green', 'blue green', 'blue', 'dark blue', 'dark grey', 'black']\n",
    "fig, ax = plt.subplots(figsize = (10, 10))\n",
    "sns.violinplot(x=\"difficulty\", y=\"ascent\", data=US_trails, order=['Green','Green/Blue','Blue','Blue/Black','Black','Double Black'], \n",
    "    palette=sns.xkcd_palette(colors),inner=None).set_title('Ascent of MTB Trails by Difficulty')\n",
    "sns.set_style(\"darkgrid\")\n",
    "sns.set(font_scale = 2)\n",
    "#plt.rcParams['hatch.color'] = '#aa007d'\n",
    "#ax.patches[5].set_hatch('x')\n",
    "ax.set_ylabel('')    \n",
    "ax.set_xlabel('')\n"
   ]
  },
  {
   "cell_type": "code",
   "execution_count": null,
   "metadata": {},
   "outputs": [],
   "source": [
    "#This shows that as length increases, ascent increases, but that for the most part within each length range,\n",
    "#the ascent is in order of difficulty; this makes sense that green trails have less ascent than others\n",
    "#colors = ['green', 'blue green', 'blue', 'dark blue', 'almost black', 'black']\n",
    "colors = ['green', 'blue green', 'blue', 'dark blue', 'dark grey', 'black']\n",
    "fig, ax = plt.subplots(figsize = (20, 10))\n",
    "bar = sns.barplot(x=\"length_range\", y=\"ascent\", hue=\"difficulty\", data=US_trails, estimator = np.median, \n",
    "    order = ['0-5','5-10','10-15','15-20','20-25','25-30','30+'], \n",
    "    hue_order=['Green','Green/Blue','Blue','Blue/Black','Black','Double Black'],\n",
    "    palette=sns.xkcd_palette(colors))\n",
    "sns.set_style(\"darkgrid\")\n",
    "sns.set(font_scale = 2)\n",
    "#plt.rcParams['hatch.color'] = '#aa007d'\n",
    "#ax.patches[5:5].set_hatch('x')\n",
    "ax.set_ylabel('')    \n",
    "ax.set_xlabel('')\n",
    "ax.set_title('Median Ascent by Trail Length(Miles)')\n",
    "plt.savefig('../images/Ascent_by_length_difficulty.png', bbox_inches='tight')\n",
    "plt.show()\n",
    "'''\n",
    "# Define some hatches\n",
    "hatches = ['-', '+', 'x', '\\\\', '*', 'o']\n",
    "\n",
    "# Loop over the bars\n",
    "for i,thisbar in enumerate(bar.patches):\n",
    "    # Set a different hatch for each bar\n",
    "    thisbar.set_hatch(hatches[i])\n",
    "'''\n"
   ]
  },
  {
   "cell_type": "code",
   "execution_count": null,
   "metadata": {},
   "outputs": [],
   "source": [
    "#IS THERE SOME WAY I COULD ATTACH THIS TO THE ASCENT GRAPH SO IT HAS A POSITIVE AND NEGATIVE Y AXIS\n",
    "#This shows that as length increases, ascent increases, but that for the most part within each length range,\n",
    "#the ascent is in order of difficulty; this makes sense that green trails have less ascent than others\n",
    "#colors = ['green', 'blue green', 'blue', 'dark blue', 'almost black', 'black']\n",
    "colors = ['green', 'blue green', 'blue', 'dark blue', 'dark grey', 'black']\n",
    "fig, ax = plt.subplots(figsize = (20, 10))\n",
    "sns.barplot(x=\"length_range\", y=\"descent\", hue=\"difficulty\", data=US_trails, estimator = np.median,\n",
    "    order = ['0-5','5-10','10-15','15-20','20-25','25-30','30+'], \n",
    "    hue_order=['Green','Green/Blue','Blue','Blue/Black','Black','Double Black'],\n",
    "    palette=sns.xkcd_palette(colors))\n",
    "sns.set_style(\"darkgrid\")\n",
    "sns.set(font_scale = 2)\n",
    "ax.set_ylabel('')    \n",
    "ax.set_xlabel('')\n",
    "ax.set_title('Median Descent by Trail Length(Miles)')\n",
    "plt.savefig('../images/Descent_by_length_difficulty.png', bbox_inches='tight')\n",
    "plt.show()"
   ]
  },
  {
   "cell_type": "code",
   "execution_count": null,
   "metadata": {},
   "outputs": [],
   "source": [
    "US_trails.dtypes"
   ]
  },
  {
   "cell_type": "code",
   "execution_count": null,
   "metadata": {},
   "outputs": [],
   "source": [
    "quantitative_columns = list(US_trails.select_dtypes(exclude=['object']).columns)\n",
    "quantitative_columns"
   ]
  },
  {
   "cell_type": "code",
   "execution_count": null,
   "metadata": {},
   "outputs": [],
   "source": [
    "#THIS GOES TO SHOW THAT LENGTH AND ASCENT ARE POSITIVELY CORRELATED\n",
    "#LENGTH/DESCENT, ASCENT/DESCENT, STARS/TYPE_CONNECTOR ARE NEGATIVELY CORRELATED\n",
    "corr = US_trails[quantitative_columns].corr() #computes pairwise correlation of columns\n",
    "sns.set(style=\"white\") #sets aesthetic parameters in one step\n",
    "mask = np.zeros_like(corr, dtype=np.bool) #creates an array with the same size as corr, fills it with zeros, and makes the dtypes boolean\n",
    "mask[np.triu_indices_from(mask)] = True #fills the indices for the upper-triangle of mask with true\n",
    "f, ax = plt.subplots(figsize=(11, 7))\n",
    "cmap = sns.diverging_palette(220, 10, as_cmap=True) #returns a matplotlib color palette object\n",
    "sns.heatmap(corr, mask=mask, cmap=cmap, vmax=1, center=0,\n",
    "square=True, yticklabels = True, linewidths=.5, cbar = True, cbar_kws={\"shrink\": .75})\n",
    "#since mask is true, data will not be shown in cells where mask is True\n",
    "#the cmap is the mapping from data values to color space\n",
    "#vmax are the values to anchor the colormap\n",
    "#center is the value at which to center the colormap when plotting divergent data\n",
    "#square sets the axes aspect to equal so each cell will be square-shaped\n",
    "#linewidths is the width of the lines that will divide each cell\n",
    "#cbar_kws is the keyword arguments for fig.colorbar so it shrinks the colorbar on the right to half its size\n",
    "plt.yticks(fontsize = 14, rotation='horizontal') #makes the ylabels horizontal\n",
    "plt.xticks(fontsize = 14, rotation=90) #makes the xlabels vertical\n",
    "plt.savefig('../images/Heatmap_quantitative_columns.png', bbox_inches='tight')\n",
    "plt.show()\n",
    "#sns.heatmap(US_trails[quantitative_columns])"
   ]
  },
  {
   "cell_type": "code",
   "execution_count": null,
   "metadata": {
    "collapsed": true
   },
   "outputs": [],
   "source": []
  }
 ],
 "metadata": {
  "kernelspec": {
   "display_name": "Python 3",
   "language": "python",
   "name": "python3"
  },
  "language_info": {
   "codemirror_mode": {
    "name": "ipython",
    "version": 3
   },
   "file_extension": ".py",
   "mimetype": "text/x-python",
   "name": "python",
   "nbconvert_exporter": "python",
   "pygments_lexer": "ipython3",
   "version": "3.6.2"
  }
 },
 "nbformat": 4,
 "nbformat_minor": 2
}
