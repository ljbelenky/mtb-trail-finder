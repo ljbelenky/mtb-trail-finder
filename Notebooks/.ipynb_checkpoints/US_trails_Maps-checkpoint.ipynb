{
 "cells": [
  {
   "cell_type": "code",
   "execution_count": 1,
   "metadata": {
    "collapsed": true
   },
   "outputs": [],
   "source": [
    "import numpy as np\n",
    "import pandas as pd\n",
    "import matplotlib.pyplot as plt\n",
    "import seaborn as sns\n",
    "from mpl_toolkits.basemap import Basemap\n",
    "import seaborn as sns\n",
    "%matplotlib inline"
   ]
  },
  {
   "cell_type": "code",
   "execution_count": 2,
   "metadata": {
    "collapsed": true
   },
   "outputs": [],
   "source": [
    "eastern_most_part = (44.815112, -66.950626) #West Quoddy Head, Maine --> HIGHEST LONG\n",
    "western_most_part = (51.880000, -176.658056) #Adak, Alaska --> LOWEST LONG\n",
    "northern_most_part = (71.387500, -156.481111) #Point Barrow, Alaska --> HIGHEST LAT\n",
    "southern_most_part = (18.913611, -155.683333) #Ka Lae, Hawaii --> LOWEST LAT"
   ]
  },
  {
   "cell_type": "code",
   "execution_count": 3,
   "metadata": {
    "collapsed": true
   },
   "outputs": [],
   "source": [
    "US_trails = pd.read_csv('../US_trails_engineered.csv')"
   ]
  },
  {
   "cell_type": "code",
   "execution_count": 4,
   "metadata": {},
   "outputs": [
    {
     "data": {
      "text/plain": [
       "Index(['name', 'location', 'difficulty', 'length', 'ascent', 'descent',\n",
       "       'stars', 'latitude', 'longitude', 'summary', 'url',\n",
       "       'difficulty_encoded', 'category', 'type_Featured Ride', 'type_Trail',\n",
       "       'city/town', 'state', 'length_range'],\n",
       "      dtype='object')"
      ]
     },
     "execution_count": 4,
     "metadata": {},
     "output_type": "execute_result"
    }
   ],
   "source": [
    "US_trails.columns"
   ]
  },
  {
   "cell_type": "code",
   "execution_count": 5,
   "metadata": {},
   "outputs": [
    {
     "data": {
      "text/plain": [
       "name                   object\n",
       "location               object\n",
       "difficulty             object\n",
       "length                float64\n",
       "ascent                  int64\n",
       "descent                 int64\n",
       "stars                 float64\n",
       "latitude              float64\n",
       "longitude             float64\n",
       "summary                object\n",
       "url                    object\n",
       "difficulty_encoded      int64\n",
       "category               object\n",
       "type_Featured Ride      int64\n",
       "type_Trail              int64\n",
       "city/town              object\n",
       "state                  object\n",
       "length_range           object\n",
       "dtype: object"
      ]
     },
     "execution_count": 5,
     "metadata": {},
     "output_type": "execute_result"
    }
   ],
   "source": [
    "US_trails.dtypes"
   ]
  },
  {
   "cell_type": "code",
   "execution_count": 6,
   "metadata": {},
   "outputs": [
    {
     "data": {
      "text/plain": [
       "19.707799999999999"
      ]
     },
     "execution_count": 6,
     "metadata": {},
     "output_type": "execute_result"
    }
   ],
   "source": [
    "US_trails['latitude'].min()"
   ]
  },
  {
   "cell_type": "code",
   "execution_count": 7,
   "metadata": {},
   "outputs": [
    {
     "data": {
      "text/plain": [
       "65.554599999999994"
      ]
     },
     "execution_count": 7,
     "metadata": {},
     "output_type": "execute_result"
    }
   ],
   "source": [
    "US_trails['latitude'].max()"
   ]
  },
  {
   "cell_type": "code",
   "execution_count": 8,
   "metadata": {},
   "outputs": [
    {
     "data": {
      "text/plain": [
       "-158.23759999999999"
      ]
     },
     "execution_count": 8,
     "metadata": {},
     "output_type": "execute_result"
    }
   ],
   "source": [
    "US_trails['longitude'].min()"
   ]
  },
  {
   "cell_type": "code",
   "execution_count": 9,
   "metadata": {},
   "outputs": [
    {
     "data": {
      "text/plain": [
       "-68.229699999999994"
      ]
     },
     "execution_count": 9,
     "metadata": {},
     "output_type": "execute_result"
    }
   ],
   "source": [
    "#this is the only measurement that's farther than the one we started with\n",
    "US_trails['longitude'].max()"
   ]
  },
  {
   "cell_type": "code",
   "execution_count": null,
   "metadata": {
    "collapsed": true
   },
   "outputs": [],
   "source": [
    "#m = Basemap(projection = 'merc', llcrnrlat = 18.913611, urcrnrlat = 71.387500, llcrnrlon = -176.658056, urcrnrlon = -66.950626)\n",
    "longitudes = US_trails['longitude'].tolist()\n",
    "latitudes = US_trails['latitude'].tolist()"
   ]
  },
  {
   "cell_type": "code",
   "execution_count": null,
   "metadata": {},
   "outputs": [],
   "source": [
    "colors = ['green', 'blue green', 'blue', 'dark blue', 'almost black', 'black']\n",
    "cmap = sns.xkcd_palette(colors)\n",
    "fig, ax = plt.subplots(figsize = (20,20))\n",
    "m = Basemap(projection='merc',llcrnrlat=18.913611,urcrnrlat=51.387500,llcrnrlon=-136.658056,urcrnrlon=-66.950626,resolution='i')\n",
    "x,y = m(longitudes, latitudes)\n",
    "#m.drawmapboundary(fill_color = '#85A6D9')\n",
    "m.drawmapboundary()\n",
    "m.drawcoastlines(color='#6D5F47',linewidth=.4)\n",
    "#m.drawrivers(color='#6D5F47', linewidth = .4)\n",
    "#m.scatter(x,y,s=20,zorder=2,c='green')\n",
    "m.scatter(x,y,s=20,zorder=2,c=US_trails['difficulty_encoded'],cmap='summer')\n",
    "ax.set_title('MTB Trails in the Lower 48', fontsize=20)\n",
    "plt.show()"
   ]
  },
  {
   "cell_type": "code",
   "execution_count": null,
   "metadata": {
    "collapsed": true
   },
   "outputs": [],
   "source": []
  }
 ],
 "metadata": {
  "kernelspec": {
   "display_name": "Python 3",
   "language": "python",
   "name": "python3"
  },
  "language_info": {
   "codemirror_mode": {
    "name": "ipython",
    "version": 3
   },
   "file_extension": ".py",
   "mimetype": "text/x-python",
   "name": "python",
   "nbconvert_exporter": "python",
   "pygments_lexer": "ipython3",
   "version": "3.6.2"
  }
 },
 "nbformat": 4,
 "nbformat_minor": 2
}
